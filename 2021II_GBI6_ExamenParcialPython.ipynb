{
 "cells": [
  {
   "cell_type": "markdown",
   "metadata": {},
   "source": [
    "<img src=\"https://www.ikiam.edu.ec/img/logo-ikiam-grey.png\" width=300 height=240 />\n",
    "\n",
    "# EXAMEN PARCIAL PYTHON\n",
    "    \n",
    "\n",
    "## GBI6-2021II: BIOINFORMÁTICA\n",
    "\n",
    "**Morales Chiriboga Angel Ricardo** \n",
    "\n",
    "**18-02-2021**"
   ]
  },
  {
   "cell_type": "markdown",
   "metadata": {},
   "source": [
    "<font color='red'>NO AGREGUE NUEVAS CELDAS, UTILICE ÚNICAMENTE LAS QUE ESTÁN CREADAS</font>\n"
   ]
  },
  {
   "cell_type": "markdown",
   "metadata": {},
   "source": [
    "### REQUERIMIENTOS PARA EL EXAMEN\n",
    "Para este examen se requiere dos documentos: \n",
    "\n",
    "1. Archivo ```miningscience.py``` donde tendrá dos funciones:\n",
    "\n",
    "2. Archivo ```2021II_GBI6_ExamenParcialPython``` donde se llamará las funciones y se obtendrá resultados."
   ]
  },
  {
   "cell_type": "markdown",
   "metadata": {},
   "source": [
    "## Ejercicio 1 [2 puntos]\n",
    "Cree el archivo ```miningscience.py``` con las siguientes dos funciones:\n",
    "    \n",
    "i. ```download_pubmed```: para descargar la data de PubMed utilizando el **ENTREZ** de Biopython. El parámetro de entrada para la función es el ```keyword```. \n",
    "    \n",
    "ii. ```mining_pubs```: esta función debe utilizar el módulo **re** y utilizar el párametro ```tipo``` para realizar lo siguiente:\n",
    "        \n",
    "* Si el tipo es \"DP\" recupera el año de publicación del artículo. El retorno es un *dataframe* con el **PMID** y el **DP_year**.\n",
    "      \n",
    "* Si el tipo es \"AU\" recupera el número de autores por **PMID**. El retorno es un *dataframe* con el **PMID** y el **num_auth**. \n",
    "      \n",
    "* Si el tipo es \"AD\" recupera el conteo de autores por país. El retorno es un *dataframe* con el **country** y el **num_auth**. \n",
    "\n",
    "* *Puede utilizar un ```if``` dentro de la función.* \n",
    "\n",
    "* *Cree un docstring para cada función.* \n",
    "\n",
    "Luego de crear las funciones, cargue el módulo ```miningscience``` como ```msc``` e imprima docstring de cada función.\n",
    "\n",
    "\n"
   ]
  },
  {
   "cell_type": "code",
   "execution_count": 19,
   "metadata": {},
   "outputs": [
    {
     "name": "stdout",
     "output_type": "stream",
     "text": [
      "Help on function download_pubmed in module miningscience:\n",
      "\n",
      "download_pubmed(keyword)\n",
      "    Función que extrae listado de artículos desde pubmed a traves de un keyword que ingresa el usuario entre comillas\n",
      "\n",
      "Help on function mining_pubs in module miningscience:\n",
      "\n",
      "mining_pubs(tipo, archivo)\n",
      "    Función que pide como primera entrada tres tipos de opciones \"DP\", \"AU\" y \"AD\". Si coloca \"DP\" el resultado es un data con el PMID y el DP_year, si es \"AU\" recupera el número de autores (num_auth) por PMID, y si el tipo es \"AD\" el retorno es un dataframe con el country y el num_auth. Se pide un segundo argumento que corresponde al keyword usado para la descarga de archivos con la funcion download pubmed\n",
      "\n"
     ]
    }
   ],
   "source": [
    "# Escriba aquí su código para el ejercicio 1\n",
    "# Se importo el código de miningscience\n",
    "import miningscience as msc\n",
    "help(msc.download_pubmed)\n",
    "help(msc.mining_pubs)"
   ]
  },
  {
   "cell_type": "markdown",
   "metadata": {},
   "source": [
    "\n",
    "## Ejercicio 2 [1 punto]\n",
    "\n",
    "\n",
    "Utilice la función ```download_pubmed``` para descargar la data con el keyword ```Ecuador genomics``` e imprima lo siguiente: \n",
    "\n",
    "```python\n",
    "'El número de artículos es: xx' # xx corresponde al número de artículos recuperados\n",
    "\n",
    "'El PMID del primer artículo es: xxxxxxxx' # xxxxxxxx corresponde al ID del artículo en PUDMED\n",
    "\n",
    "```"
   ]
  },
  {
   "cell_type": "code",
   "execution_count": 23,
   "metadata": {},
   "outputs": [
    {
     "name": "stdout",
     "output_type": "stream",
     "text": [
      "Requirement already satisfied: biopython in c:\\users\\ricardo\\anaconda3\\lib\\site-packages (1.79)\n",
      "Requirement already satisfied: numpy in c:\\users\\ricardo\\anaconda3\\lib\\site-packages (from biopython) (1.20.1)\n",
      "El número de articulos es:  193\n",
      "El PMID del primer articulo es:  35121084\n"
     ]
    }
   ],
   "source": [
    "# Escriba aquí su código para el ejercicio 2\n",
    "!pip install biopython \n",
    "data = msc.download_pubmed(\"Ecuador genomics\")\n",
    "import re\n",
    "data1 = re.findall(r\"PMID- \", data)\n",
    "print(\"El número de articulos es: \", len(data1))\n",
    "data2 = re.findall(r\"\\d{8}\",data)\n",
    "print(\"El PMID del primer articulo es: \", data2[0])"
   ]
  },
  {
   "cell_type": "markdown",
   "metadata": {},
   "source": [
    "## Ejercicio 3 [1 punto]\n",
    "\n",
    "Utilice la función ```mining_pubs``` para crear los siguientes dataframes: \n",
    "\n",
    "* pub_year\n",
    "\n",
    "* pub_authors\n",
    "\n",
    "* coutries\n",
    "\n",
    "Muestre los dos primeros y los dos últimos registros de cada dataframe. "
   ]
  },
  {
   "cell_type": "code",
   "execution_count": 28,
   "metadata": {},
   "outputs": [
    {
     "name": "stdout",
     "output_type": "stream",
     "text": [
      "           pais  numero de autores\n",
      "1        Canada                 83\n",
      "2       Ecuador                314\n",
      "3          Peru                 28\n",
      "4       Bolivia                  5\n",
      "5           USA                407\n",
      "6            UK                198\n",
      "7         Japan                 39\n",
      "8         India                 45\n",
      "9       Germany                141\n",
      "10  Switzerland                 23\n",
      "        PMID  Numero de autores\n",
      "1   35120121                 14\n",
      "2   35113400                  2\n",
      "3   35104837                 54\n",
      "4   35064679                  7\n",
      "5   35047841                  9\n",
      "6   35043846                  6\n",
      "7   35018222                 10\n",
      "8   34962985                  7\n",
      "9   34960145                  4\n",
      "10  34938321                  8\n",
      "        PMID Año de publicación\n",
      "1   35121084               2022\n",
      "2   35120121               2021\n",
      "3   35113400               2022\n",
      "4   35104837               2022\n",
      "5   35064679               2021\n",
      "6   35047841               2022\n",
      "7   35043846               2022\n",
      "8   35018222               2022\n",
      "9   34962985               2021\n",
      "10  34960145               2021\n",
      "\n",
      "2 primeros registros y 2 últimos registos\n",
      "\n",
      "        pais  numero de autores\n",
      "0  Argentina                 44\n",
      "1     Canada                 83\n",
      "\n",
      "           pais  numero de autores\n",
      "67  Netherlands                  3\n",
      "68      MexicoF                  4\n",
      "\n",
      "       PMID  Numero de autores\n",
      "0  35121084                 12\n",
      "1  35120121                 14\n",
      "\n",
      "         PMID  Numero de autores\n",
      "191  17187350                  1\n",
      "192   8661097                  9\n",
      "\n",
      "       PMID Año de publicación\n",
      "0                         2022\n",
      "1  35121084               2022\n",
      "\n",
      "        PMID Año de publicación\n",
      "67  32447234               2020\n",
      "68  32419208               2020\n"
     ]
    }
   ],
   "source": [
    "# Escriba aquí su código para el ejercicio 3\n",
    "pub_year = msc.mining_pubs(\"DP\", \"Ecuador genomics\")\n",
    "pub_authors = msc.mining_pubs(\"AU\", \"Ecuador genomics\")\n",
    "countries = msc.mining_pubs(\"AD\", \"Ecuador genomics\")\n",
    "\n",
    "#Verificación DataFramaes\n",
    "print(countries[1:11])\n",
    "print(pub_authors[1:11])\n",
    "print(pub_year[1:11])\n",
    "\n",
    "# 2 primeros registros y 2 últimos registos\n",
    "print()\n",
    "print(\"2 primeros registros y 2 últimos registos\")\n",
    "print()\n",
    "\n",
    "# Countries\n",
    "print(countries[0:2])\n",
    "print()\n",
    "print(countries[67:69])\n",
    "print()\n",
    "\n",
    "# Pub_authors\n",
    "print(pub_authors[0:2])\n",
    "print()\n",
    "print(pub_authors[191:193])\n",
    "print()\n",
    "\n",
    "# Pub_year\n",
    "print(pub_year[0:2])\n",
    "print()\n",
    "print(pub_year[67:69])"
   ]
  },
  {
   "cell_type": "markdown",
   "metadata": {
    "jp-MarkdownHeadingCollapsed": true,
    "tags": []
   },
   "source": [
    "## Ejercicio 4 [2 puntos]\n",
    "\n",
    "Realice la visualización de los datos del ejercicio 3. \n",
    "\n",
    "* ```pubyear```: utilizando el conteo artículos por año, calcule la media y la desviación estandar (asumiendo que la distribución es normal). Realice un gráfico de la distribución normal de sus datos. Coloque el título, leyenda de los ejes \"x\" e \"y\", y la leyenda de la curva (utilice las expresiones matemáticas tipos latex de ser necesario). \n",
    "\n",
    "* ```pub_authors```: realice un boxplot del conteo de autores por artículo. Coloque las leyendas adecuadas para cada eje y el título.  \n",
    "\n",
    "* ```countries```: realice una nube de puntos (adaptación de su tarea), resalte al menos 3 países con flechas. Coloque las leyendas adecuadas para cada eje y el título. \n"
   ]
  },
  {
   "cell_type": "code",
   "execution_count": 63,
   "metadata": {},
   "outputs": [
    {
     "name": "stdout",
     "output_type": "stream",
     "text": [
      "Valor media es:  2018.1813471502592\n",
      "Valor de desviación estandar es:  3.1677516094333185\n"
     ]
    },
    {
     "data": {
      "text/plain": [
       "Text(0, 0.5, 'Autores repetidos')"
      ]
     },
     "execution_count": 63,
     "metadata": {},
     "output_type": "execute_result"
    },
    {
     "data": {
      "image/png": "[encoded data removed]",
      "text/plain": [
       "<Figure size 432x288 with 1 Axes>"
      ]
     },
     "metadata": {
      "needs_background": "light"
     },
     "output_type": "display_data"
    },
    {
     "data": {
      "image/png": "[encoded data removed]",
      "text/plain": [
       "<Figure size 432x288 with 1 Axes>"
      ]
     },
     "metadata": {
      "needs_background": "light"
     },
     "output_type": "display_data"
    }
   ],
   "source": [
    "# Escriba aquí su código para el ejercicio 4\n",
    "# Grafico del Pub_year\n",
    "# Primero importamos las librerias\n",
    "import pandas as pd\n",
    "import matplotlib.pyplot as plot\n",
    "# Continuamos con el ejercicio\n",
    "from collections import Counter\n",
    "pub_year[\"Año de publicación\"]= pub_year[\"Año de publicación\"].astype(\"int\")\n",
    "mean_py = pub_year[\"Año de publicación\"].mean()\n",
    "sd_py = pub_year[\"Año de publicación\"].std()\n",
    "print(\"Valor media es: \", mean_py)\n",
    "print (\"Valor de desviación estandar es: \", sd_py)\n",
    "itv=range(min(pub_year[\"Año de publicación\"]))\n",
    "plot.hist(x = pub_year[\"Año de publicación\"], color= \"orange\" )\n",
    "plot.title(\"Articulos publicados por año\")\n",
    "plot.xlabel(\"Año\")\n",
    "plot.ylabel(\"Número de repeticiones\")\n",
    "\n",
    "# Gráfica de Boxplot\n",
    "plot.figure()\n",
    "boxplot = pub_authors[0:827].boxplot(column=[\"Numero de autores\"])\n",
    "plot.title(\"Cantidad de autores por articulos\")\n",
    "plot.ylabel(\"Autores repetidos\")"
   ]
  },
  {
   "cell_type": "code",
   "execution_count": 62,
   "metadata": {},
   "outputs": [
    {
     "data": {
      "image/png": "[encoded data removed]",
      "text/plain": [
       "<Figure size 1296x864 with 2 Axes>"
      ]
     },
     "metadata": {
      "needs_background": "light"
     },
     "output_type": "display_data"
    }
   ],
   "source": [
    "# Gráfico de los paises\n",
    "paises = countries.sort_values(\"numero de autores\")\n",
    "\n",
    "countries_latitud = [39.399872, 4.570868, 41.87194, 46.227638, 51.165691, 55.378051, \n",
    "                40.463667, -14.235004, 37.09024, -1.831239  ] \n",
    "                 \n",
    "countries_longitud = [-8.224454, -74.297333, 12.56738, 2.213749, 10.451526, -3.435973,  \n",
    "                 -3.74922, -51.92528, -95.712891, -78.183406]\n",
    "repeticiones = [143, 173, 177, 221, 253, 316, 499, 501, 784, 1206]\n",
    "\n",
    "import matplotlib.pyplot as plot\n",
    "%matplotlib inline\n",
    "\n",
    "plot.scatter(countries_latitud, countries_longitud, repeticiones) \n",
    "plot.colorbar()\n",
    "ard = dict(arrowstyle=\"->\")\n",
    "plot.annotate(\"Colombia\", xy= (4.570868, -74.297333), \n",
    "            xytext = (4.570868, -71), arrowprops = ard)\n",
    "plot.annotate(\"Ecuador\", xy= (-1.831239, -78.183406), \n",
    "            xytext = (-10, -20), arrowprops = ard)\n",
    "plot.annotate(\"Estados Unidos\", xy = (37.09024, -95.712891), \n",
    "             xytext = (37.09024, -92), arrowprops = ard)  \n",
    "params = plot.gcf()\n",
    "plSize = params.get_size_inches()\n",
    "params.set_size_inches( (plSize[0] * 3, plSize[1] * 3) )\n",
    "plot.show()"
   ]
  },
  {
   "cell_type": "markdown",
   "metadata": {},
   "source": [
    "## Ejercicio 5 [1 punto]\n",
    "\n",
    "Interprete los resultados del **ejercicio 4**\n",
    "**Gráfico distribución normal**\n",
    "# En el gráfico de distribución normal se puede observar que entre los años 2010 y 2020 se da un aumento progresivo en la publicación de artículos, mientras que en los años 1995 y 2007 esto no se ve reflejado, siendo pocos los artículos publicados\n",
    "**Boxplot**\n",
    "# En la gráfica de boxplot se puede observar la cantidad de autores por artículo, obteniendo una media de 8 autores por artículo.\n",
    "**Mapa de ciencia**\n",
    "# Gráfico mapa se puede observar paises como Colombia posee un número ,mayor de autores seguido por Ecuador y finalmente se encuentra USA."
   ]
  },
  {
   "cell_type": "markdown",
   "metadata": {},
   "source": [
    "### Escriba la respuesta del ejercicio 5\n"
   ]
  },
  {
   "cell_type": "markdown",
   "metadata": {},
   "source": [
    "## Ejercicio 6 [2 puntos]\n",
    "\n",
    "Para algún gen de interés, realice lo siguiente: \n",
    "\n",
    "1. Una búsqueda en la página del [NCBI nucleotide](https://www.ncbi.nlm.nih.gov/nucleotide/).\n",
    "\n",
    "2. Descargue el ```Accession List``` de su búsqueda.\n",
    "\n",
    "3. Cargue el ```Accession List``` en este notebook y haga una descarga de la data tipo ```genbank``` utilizando los diez primeros IDs de accesión. \n",
    "\n",
    "4. Arme un árbol filogenético para los resultados del paso 3.\n",
    "\n",
    "5. Interprete el árbol del paso 4. "
   ]
  },
  {
   "cell_type": "code",
   "execution_count": 5,
   "metadata": {},
   "outputs": [],
   "source": [
    "# Escriba aquí su código para el ejercicio 6\n",
    "\n"
   ]
  },
  {
   "cell_type": "markdown",
   "metadata": {},
   "source": [
    "**Escriba aquí la interpretación del árbol**"
   ]
  },
  {
   "cell_type": "markdown",
   "metadata": {},
   "source": [
    "## Ejercicio 7 [1 punto]\n",
    "\n",
    "\n",
    "1. Cree en GitHub un repositorio de nombre ```GBI6_ExamenPython```. \n",
    "2. Cree un archivo ```Readme.md``` que debe tener lo siguiente: \n",
    "- Datos personales\n",
    "- Características del computador\n",
    "- Versión de Python/Anaconda y de cada uno de los módulos/paquetes y utilizados\n",
    "- Explicación de la data utilizada\n",
    "\n",
    "3. Cree un directorio de nombre ```data``` donde deben estar guardado la data utilizada \n",
    "4. Realice al menos 1 control de la versión (commits) por cada ejercicio (del 1 al 6), con un mensaje que inicie como: \n",
    "\n",
    "```sh \n",
    "Carlitos Alimaña ha realizado .....  \n",
    "```"
   ]
  }
 ],
 "metadata": {
  "kernelspec": {
   "display_name": "Python 3",
   "language": "python",
   "name": "python3"
  },
  "language_info": {
   "codemirror_mode": {
    "name": "ipython",
    "version": 3
   },
   "file_extension": ".py",
   "mimetype": "text/x-python",
   "name": "python",
   "nbconvert_exporter": "python",
   "pygments_lexer": "ipython3",
   "version": "3.8.8"
  },
  "latex_envs": {
   "LaTeX_envs_menu_present": true,
   "autoclose": false,
   "autocomplete": true,
   "bibliofile": "biblio.bib",
   "cite_by": "apalike",
   "current_citInitial": 1,
   "eqLabelWithNumbers": true,
   "eqNumInitial": 1,
   "hotkeys": {
    "equation": "Ctrl-E",
    "itemize": "Ctrl-I"
   },
   "labels_anchors": false,
   "latex_user_defs": false,
   "report_style_numbering": false,
   "user_envs_cfg": false
  },
  "toc": {
   "base_numbering": 1,
   "nav_menu": {},
   "number_sections": true,
   "sideBar": false,
   "skip_h1_title": false,
   "title_cell": "Table of Contents",
   "title_sidebar": "Contents",
   "toc_cell": false,
   "toc_position": {
    "height": "1152.67px",
    "left": "41px",
    "top": "110px",
    "width": "253.458px"
   },
   "toc_section_display": true,
   "toc_window_display": false
  },
  "varInspector": {
   "cols": {
    "lenName": 16,
    "lenType": 16,
    "lenVar": 40
   },
   "kernels_config": {
    "python": {
     "delete_cmd_postfix": "",
     "delete_cmd_prefix": "del ",
     "library": "var_list.py",
     "varRefreshCmd": "print(var_dic_list())"
    },
    "r": {
     "delete_cmd_postfix": ") ",
     "delete_cmd_prefix": "rm(",
     "library": "var_list.r",
     "varRefreshCmd": "cat(var_dic_list()) "
    }
   },
   "types_to_exclude": [
    "module",
    "function",
    "builtin_function_or_method",
    "instance",
    "_Feature"
   ],
   "window_display": false
  }
 },
 "nbformat": 4,
 "nbformat_minor": 4
}
